{
 "cells": [
  {
   "cell_type": "markdown",
   "metadata": {},
   "source": [
    "## Description\n",
    "\n",
    "Задача бинарной классификации сообщений из Телеграма на спам. В качестве датасета размеченные данные из Телеграма за один месяц.\n",
    "Проект описывает этапы препроцессинга, EDA, векторного преобразования слов с последующей классификацией с помощью RandomForest, XGBoost и Catboost. Помимо этого настроим и обучим трансформер BERT с помощью PytorchLighting"
   ]
  },
  {
   "cell_type": "code",
   "execution_count": 1,
   "metadata": {},
   "outputs": [],
   "source": [
    "# !pip install -r requirements.txt"
   ]
  },
  {
   "cell_type": "code",
   "execution_count": 2,
   "metadata": {},
   "outputs": [],
   "source": [
    "import warnings\n",
    "warnings.filterwarnings(\"ignore\")\n",
    "import os\n",
    "import json\n",
    "import pandas as pd\n",
    "from sklearn.model_selection import train_test_split\n",
    "from lightning_transformers.task.nlp.text_classification import (\n",
    "    TextClassificationDataModule,\n",
    "    TextClassificationTransformer,\n",
    ")\n",
    "from transformers import AutoTokenizer\n",
    "from glob import glob\n",
    "import pytorch_lightning as pl\n",
    "from sklearn import metrics\n",
    "import re"
   ]
  },
  {
   "cell_type": "code",
   "execution_count": 3,
   "metadata": {},
   "outputs": [],
   "source": [
    "train_path=os.path.join('dataset','train.json')\n",
    "test_path=os.path.join('dataset','test.json')\n",
    "eval_path=os.path.join('dataset','eval.json')\n",
    "df_path=os.path.join('dataset','df.json')\n",
    "report_path = 'result.json'\n",
    "origin_bert_name = 'bert-base-multilingual-uncased'\n",
    "modified_bert_name = 'spam-bert-multilingual'\n",
    "w2v_model_name = 'word2v.model'"
   ]
  },
  {
   "cell_type": "code",
   "execution_count": 4,
   "metadata": {},
   "outputs": [],
   "source": [
    "def show_metrics (y, preds):\n",
    "    fpr, tpr, thresholds = metrics.roc_curve(y, preds)\n",
    "    roc_auc = metrics.auc(fpr, tpr)\n",
    "    display = metrics.RocCurveDisplay(fpr=fpr, tpr=tpr, roc_auc=roc_auc)\n",
    "    display.plot();\n",
    "    print(metrics.classification_report(y, preds))\n",
    "    cm=metrics.confusion_matrix(y,preds)\n",
    "    disp = metrics.ConfusionMatrixDisplay(confusion_matrix=cm)\n",
    "    disp.plot();"
   ]
  },
  {
   "cell_type": "markdown",
   "metadata": {},
   "source": [
    "## Preproccess files\n",
    "Импорт сообщений состоит из бота выдающего сообщения о спаме, а также сотрудника, который посмечает сообщения (SPAM/NO)"
   ]
  },
  {
   "cell_type": "code",
   "execution_count": 4,
   "metadata": {},
   "outputs": [],
   "source": [
    "employer_id = 'user32512143'\n",
    "contractor_bot_id = 'user913646289'"
   ]
  },
  {
   "cell_type": "markdown",
   "metadata": {},
   "source": [
    "Получение и парсинг данных"
   ]
  },
  {
   "cell_type": "code",
   "execution_count": 5,
   "metadata": {},
   "outputs": [
    {
     "data": {
      "text/html": [
       "<div>\n",
       "<style scoped>\n",
       "    .dataframe tbody tr th:only-of-type {\n",
       "        vertical-align: middle;\n",
       "    }\n",
       "\n",
       "    .dataframe tbody tr th {\n",
       "        vertical-align: top;\n",
       "    }\n",
       "\n",
       "    .dataframe thead th {\n",
       "        text-align: right;\n",
       "    }\n",
       "</style>\n",
       "<table border=\"1\" class=\"dataframe\">\n",
       "  <thead>\n",
       "    <tr style=\"text-align: right;\">\n",
       "      <th></th>\n",
       "      <th>id</th>\n",
       "      <th>type</th>\n",
       "      <th>date</th>\n",
       "      <th>date_unixtime</th>\n",
       "      <th>from</th>\n",
       "      <th>from_id</th>\n",
       "      <th>forwarded_from</th>\n",
       "      <th>text</th>\n",
       "      <th>text_entities</th>\n",
       "      <th>reply_to_message_id</th>\n",
       "      <th>...</th>\n",
       "      <th>mime_type</th>\n",
       "      <th>duration_seconds</th>\n",
       "      <th>via_bot</th>\n",
       "      <th>poll</th>\n",
       "      <th>performer</th>\n",
       "      <th>title</th>\n",
       "      <th>contact_information</th>\n",
       "      <th>contact_vcard</th>\n",
       "      <th>edited</th>\n",
       "      <th>edited_unixtime</th>\n",
       "    </tr>\n",
       "  </thead>\n",
       "  <tbody>\n",
       "    <tr>\n",
       "      <th>0</th>\n",
       "      <td>9000000</td>\n",
       "      <td>message</td>\n",
       "      <td>2022-08-07T12:45:51</td>\n",
       "      <td>1659858351</td>\n",
       "      <td>Spam Contractor Bot</td>\n",
       "      <td>user913646289</td>\n",
       "      <td>Vân Anh</td>\n",
       "      <td>[{'type': 'italic', 'text': '🌕 0%'}, \\nNạp 1tr...</td>\n",
       "      <td>[{'type': 'italic', 'text': '🌕 0%'}, {'type': ...</td>\n",
       "      <td>NaN</td>\n",
       "      <td>...</td>\n",
       "      <td>NaN</td>\n",
       "      <td>NaN</td>\n",
       "      <td>NaN</td>\n",
       "      <td>NaN</td>\n",
       "      <td>NaN</td>\n",
       "      <td>NaN</td>\n",
       "      <td>NaN</td>\n",
       "      <td>NaN</td>\n",
       "      <td>NaN</td>\n",
       "      <td>NaN</td>\n",
       "    </tr>\n",
       "    <tr>\n",
       "      <th>1</th>\n",
       "      <td>9000001</td>\n",
       "      <td>message</td>\n",
       "      <td>2022-08-07T12:45:51</td>\n",
       "      <td>1659858351</td>\n",
       "      <td>Spam Contractor Bot</td>\n",
       "      <td>user913646289</td>\n",
       "      <td>NaN</td>\n",
       "      <td>[{'type': 'hashtag', 'text': '#r785281986'}, ,...</td>\n",
       "      <td>[{'type': 'hashtag', 'text': '#r785281986'}, {...</td>\n",
       "      <td>9000000.0</td>\n",
       "      <td>...</td>\n",
       "      <td>NaN</td>\n",
       "      <td>NaN</td>\n",
       "      <td>NaN</td>\n",
       "      <td>NaN</td>\n",
       "      <td>NaN</td>\n",
       "      <td>NaN</td>\n",
       "      <td>NaN</td>\n",
       "      <td>NaN</td>\n",
       "      <td>NaN</td>\n",
       "      <td>NaN</td>\n",
       "    </tr>\n",
       "    <tr>\n",
       "      <th>2</th>\n",
       "      <td>9000002</td>\n",
       "      <td>message</td>\n",
       "      <td>2022-08-07T12:45:55</td>\n",
       "      <td>1659858355</td>\n",
       "      <td>Kirill Fomenko</td>\n",
       "      <td>user32512143</td>\n",
       "      <td>NaN</td>\n",
       "      <td>😌 NO</td>\n",
       "      <td>[{'type': 'plain', 'text': '😌 NO'}]</td>\n",
       "      <td>NaN</td>\n",
       "      <td>...</td>\n",
       "      <td>NaN</td>\n",
       "      <td>NaN</td>\n",
       "      <td>NaN</td>\n",
       "      <td>NaN</td>\n",
       "      <td>NaN</td>\n",
       "      <td>NaN</td>\n",
       "      <td>NaN</td>\n",
       "      <td>NaN</td>\n",
       "      <td>NaN</td>\n",
       "      <td>NaN</td>\n",
       "    </tr>\n",
       "    <tr>\n",
       "      <th>3</th>\n",
       "      <td>9000003</td>\n",
       "      <td>message</td>\n",
       "      <td>2022-08-07T12:45:55</td>\n",
       "      <td>1659858355</td>\n",
       "      <td>Spam Contractor Bot</td>\n",
       "      <td>user913646289</td>\n",
       "      <td>NaN</td>\n",
       "      <td>[Report , {'type': 'hashtag', 'text': '#r78528...</td>\n",
       "      <td>[{'type': 'plain', 'text': 'Report '}, {'type'...</td>\n",
       "      <td>NaN</td>\n",
       "      <td>...</td>\n",
       "      <td>NaN</td>\n",
       "      <td>NaN</td>\n",
       "      <td>NaN</td>\n",
       "      <td>NaN</td>\n",
       "      <td>NaN</td>\n",
       "      <td>NaN</td>\n",
       "      <td>NaN</td>\n",
       "      <td>NaN</td>\n",
       "      <td>NaN</td>\n",
       "      <td>NaN</td>\n",
       "    </tr>\n",
       "    <tr>\n",
       "      <th>4</th>\n",
       "      <td>9000004</td>\n",
       "      <td>message</td>\n",
       "      <td>2022-08-07T12:45:55</td>\n",
       "      <td>1659858355</td>\n",
       "      <td>Spam Contractor Bot</td>\n",
       "      <td>user913646289</td>\n",
       "      <td>Артём Грузнов</td>\n",
       "      <td>[{'type': 'italic', 'text': '🌚 100%'}, \\n❗ВНИМ...</td>\n",
       "      <td>[{'type': 'italic', 'text': '🌚 100%'}, {'type'...</td>\n",
       "      <td>NaN</td>\n",
       "      <td>...</td>\n",
       "      <td>NaN</td>\n",
       "      <td>NaN</td>\n",
       "      <td>NaN</td>\n",
       "      <td>NaN</td>\n",
       "      <td>NaN</td>\n",
       "      <td>NaN</td>\n",
       "      <td>NaN</td>\n",
       "      <td>NaN</td>\n",
       "      <td>NaN</td>\n",
       "      <td>NaN</td>\n",
       "    </tr>\n",
       "    <tr>\n",
       "      <th>5</th>\n",
       "      <td>9000005</td>\n",
       "      <td>message</td>\n",
       "      <td>2022-08-07T12:45:55</td>\n",
       "      <td>1659858355</td>\n",
       "      <td>Spam Contractor Bot</td>\n",
       "      <td>user913646289</td>\n",
       "      <td>NaN</td>\n",
       "      <td>[{'type': 'hashtag', 'text': '#r782066297'}, ,...</td>\n",
       "      <td>[{'type': 'hashtag', 'text': '#r782066297'}, {...</td>\n",
       "      <td>9000004.0</td>\n",
       "      <td>...</td>\n",
       "      <td>NaN</td>\n",
       "      <td>NaN</td>\n",
       "      <td>NaN</td>\n",
       "      <td>NaN</td>\n",
       "      <td>NaN</td>\n",
       "      <td>NaN</td>\n",
       "      <td>NaN</td>\n",
       "      <td>NaN</td>\n",
       "      <td>NaN</td>\n",
       "      <td>NaN</td>\n",
       "    </tr>\n",
       "    <tr>\n",
       "      <th>6</th>\n",
       "      <td>9000006</td>\n",
       "      <td>message</td>\n",
       "      <td>2022-08-07T12:45:56</td>\n",
       "      <td>1659858356</td>\n",
       "      <td>Kirill Fomenko</td>\n",
       "      <td>user32512143</td>\n",
       "      <td>NaN</td>\n",
       "      <td>😡 SPAM</td>\n",
       "      <td>[{'type': 'plain', 'text': '😡 SPAM'}]</td>\n",
       "      <td>NaN</td>\n",
       "      <td>...</td>\n",
       "      <td>NaN</td>\n",
       "      <td>NaN</td>\n",
       "      <td>NaN</td>\n",
       "      <td>NaN</td>\n",
       "      <td>NaN</td>\n",
       "      <td>NaN</td>\n",
       "      <td>NaN</td>\n",
       "      <td>NaN</td>\n",
       "      <td>NaN</td>\n",
       "      <td>NaN</td>\n",
       "    </tr>\n",
       "    <tr>\n",
       "      <th>7</th>\n",
       "      <td>9000007</td>\n",
       "      <td>message</td>\n",
       "      <td>2022-08-07T12:45:56</td>\n",
       "      <td>1659858356</td>\n",
       "      <td>Spam Contractor Bot</td>\n",
       "      <td>user913646289</td>\n",
       "      <td>NaN</td>\n",
       "      <td>[Report , {'type': 'hashtag', 'text': '#r78206...</td>\n",
       "      <td>[{'type': 'plain', 'text': 'Report '}, {'type'...</td>\n",
       "      <td>NaN</td>\n",
       "      <td>...</td>\n",
       "      <td>NaN</td>\n",
       "      <td>NaN</td>\n",
       "      <td>NaN</td>\n",
       "      <td>NaN</td>\n",
       "      <td>NaN</td>\n",
       "      <td>NaN</td>\n",
       "      <td>NaN</td>\n",
       "      <td>NaN</td>\n",
       "      <td>NaN</td>\n",
       "      <td>NaN</td>\n",
       "    </tr>\n",
       "    <tr>\n",
       "      <th>8</th>\n",
       "      <td>9000008</td>\n",
       "      <td>message</td>\n",
       "      <td>2022-08-07T12:45:56</td>\n",
       "      <td>1659858356</td>\n",
       "      <td>Spam Contractor Bot</td>\n",
       "      <td>user913646289</td>\n",
       "      <td>Nguyễn Thị Bích Liên</td>\n",
       "      <td>[{'type': 'italic', 'text': '🌕 0%'}, \\n, {'typ...</td>\n",
       "      <td>[{'type': 'italic', 'text': '🌕 0%'}, {'type': ...</td>\n",
       "      <td>NaN</td>\n",
       "      <td>...</td>\n",
       "      <td>NaN</td>\n",
       "      <td>NaN</td>\n",
       "      <td>NaN</td>\n",
       "      <td>NaN</td>\n",
       "      <td>NaN</td>\n",
       "      <td>NaN</td>\n",
       "      <td>NaN</td>\n",
       "      <td>NaN</td>\n",
       "      <td>NaN</td>\n",
       "      <td>NaN</td>\n",
       "    </tr>\n",
       "    <tr>\n",
       "      <th>9</th>\n",
       "      <td>9000009</td>\n",
       "      <td>message</td>\n",
       "      <td>2022-08-07T12:45:56</td>\n",
       "      <td>1659858356</td>\n",
       "      <td>Spam Contractor Bot</td>\n",
       "      <td>user913646289</td>\n",
       "      <td>NaN</td>\n",
       "      <td>[{'type': 'hashtag', 'text': '#r786017572'}, ,...</td>\n",
       "      <td>[{'type': 'hashtag', 'text': '#r786017572'}, {...</td>\n",
       "      <td>9000008.0</td>\n",
       "      <td>...</td>\n",
       "      <td>NaN</td>\n",
       "      <td>NaN</td>\n",
       "      <td>NaN</td>\n",
       "      <td>NaN</td>\n",
       "      <td>NaN</td>\n",
       "      <td>NaN</td>\n",
       "      <td>NaN</td>\n",
       "      <td>NaN</td>\n",
       "      <td>NaN</td>\n",
       "      <td>NaN</td>\n",
       "    </tr>\n",
       "  </tbody>\n",
       "</table>\n",
       "<p>10 rows × 27 columns</p>\n",
       "</div>"
      ],
      "text/plain": [
       "        id     type                 date date_unixtime                 from  \\\n",
       "0  9000000  message  2022-08-07T12:45:51    1659858351  Spam Contractor Bot   \n",
       "1  9000001  message  2022-08-07T12:45:51    1659858351  Spam Contractor Bot   \n",
       "2  9000002  message  2022-08-07T12:45:55    1659858355       Kirill Fomenko   \n",
       "3  9000003  message  2022-08-07T12:45:55    1659858355  Spam Contractor Bot   \n",
       "4  9000004  message  2022-08-07T12:45:55    1659858355  Spam Contractor Bot   \n",
       "5  9000005  message  2022-08-07T12:45:55    1659858355  Spam Contractor Bot   \n",
       "6  9000006  message  2022-08-07T12:45:56    1659858356       Kirill Fomenko   \n",
       "7  9000007  message  2022-08-07T12:45:56    1659858356  Spam Contractor Bot   \n",
       "8  9000008  message  2022-08-07T12:45:56    1659858356  Spam Contractor Bot   \n",
       "9  9000009  message  2022-08-07T12:45:56    1659858356  Spam Contractor Bot   \n",
       "\n",
       "         from_id        forwarded_from  \\\n",
       "0  user913646289               Vân Anh   \n",
       "1  user913646289                   NaN   \n",
       "2   user32512143                   NaN   \n",
       "3  user913646289                   NaN   \n",
       "4  user913646289         Артём Грузнов   \n",
       "5  user913646289                   NaN   \n",
       "6   user32512143                   NaN   \n",
       "7  user913646289                   NaN   \n",
       "8  user913646289  Nguyễn Thị Bích Liên   \n",
       "9  user913646289                   NaN   \n",
       "\n",
       "                                                text  \\\n",
       "0  [{'type': 'italic', 'text': '🌕 0%'}, \\nNạp 1tr...   \n",
       "1  [{'type': 'hashtag', 'text': '#r785281986'}, ,...   \n",
       "2                                               😌 NO   \n",
       "3  [Report , {'type': 'hashtag', 'text': '#r78528...   \n",
       "4  [{'type': 'italic', 'text': '🌚 100%'}, \\n❗ВНИМ...   \n",
       "5  [{'type': 'hashtag', 'text': '#r782066297'}, ,...   \n",
       "6                                             😡 SPAM   \n",
       "7  [Report , {'type': 'hashtag', 'text': '#r78206...   \n",
       "8  [{'type': 'italic', 'text': '🌕 0%'}, \\n, {'typ...   \n",
       "9  [{'type': 'hashtag', 'text': '#r786017572'}, ,...   \n",
       "\n",
       "                                       text_entities  reply_to_message_id  \\\n",
       "0  [{'type': 'italic', 'text': '🌕 0%'}, {'type': ...                  NaN   \n",
       "1  [{'type': 'hashtag', 'text': '#r785281986'}, {...            9000000.0   \n",
       "2                [{'type': 'plain', 'text': '😌 NO'}]                  NaN   \n",
       "3  [{'type': 'plain', 'text': 'Report '}, {'type'...                  NaN   \n",
       "4  [{'type': 'italic', 'text': '🌚 100%'}, {'type'...                  NaN   \n",
       "5  [{'type': 'hashtag', 'text': '#r782066297'}, {...            9000004.0   \n",
       "6              [{'type': 'plain', 'text': '😡 SPAM'}]                  NaN   \n",
       "7  [{'type': 'plain', 'text': 'Report '}, {'type'...                  NaN   \n",
       "8  [{'type': 'italic', 'text': '🌕 0%'}, {'type': ...                  NaN   \n",
       "9  [{'type': 'hashtag', 'text': '#r786017572'}, {...            9000008.0   \n",
       "\n",
       "   ... mime_type  duration_seconds  via_bot poll performer title  \\\n",
       "0  ...       NaN               NaN      NaN  NaN       NaN   NaN   \n",
       "1  ...       NaN               NaN      NaN  NaN       NaN   NaN   \n",
       "2  ...       NaN               NaN      NaN  NaN       NaN   NaN   \n",
       "3  ...       NaN               NaN      NaN  NaN       NaN   NaN   \n",
       "4  ...       NaN               NaN      NaN  NaN       NaN   NaN   \n",
       "5  ...       NaN               NaN      NaN  NaN       NaN   NaN   \n",
       "6  ...       NaN               NaN      NaN  NaN       NaN   NaN   \n",
       "7  ...       NaN               NaN      NaN  NaN       NaN   NaN   \n",
       "8  ...       NaN               NaN      NaN  NaN       NaN   NaN   \n",
       "9  ...       NaN               NaN      NaN  NaN       NaN   NaN   \n",
       "\n",
       "  contact_information contact_vcard  edited edited_unixtime  \n",
       "0                 NaN           NaN     NaN             NaN  \n",
       "1                 NaN           NaN     NaN             NaN  \n",
       "2                 NaN           NaN     NaN             NaN  \n",
       "3                 NaN           NaN     NaN             NaN  \n",
       "4                 NaN           NaN     NaN             NaN  \n",
       "5                 NaN           NaN     NaN             NaN  \n",
       "6                 NaN           NaN     NaN             NaN  \n",
       "7                 NaN           NaN     NaN             NaN  \n",
       "8                 NaN           NaN     NaN             NaN  \n",
       "9                 NaN           NaN     NaN             NaN  \n",
       "\n",
       "[10 rows x 27 columns]"
      ]
     },
     "execution_count": 5,
     "metadata": {},
     "output_type": "execute_result"
    }
   ],
   "source": [
    "with open(report_path, 'r', encoding=\"utf8\") as json_file:\n",
    "    data = json.load(json_file)\n",
    "\n",
    "data_messages=pd.DataFrame(data['messages'])\n",
    "data_messages.head(10)"
   ]
  },
  {
   "cell_type": "markdown",
   "metadata": {},
   "source": [
    "Пример сообщений"
   ]
  },
  {
   "cell_type": "code",
   "execution_count": 6,
   "metadata": {},
   "outputs": [
    {
     "data": {
      "text/plain": [
       "array([list([{'type': 'italic', 'text': '🌕 0%'}, '\\nNạp 1tr km 500k 2 vòng cược ai qt ib em ( đạt chỉ tiêu được bank thêm 200k )']),\n",
       "       list([{'type': 'hashtag', 'text': '#r785281986'}, ', 😱11\\n', {'type': 'bold', 'text': 'Source:'}, ' Trường Giang - DOMINO - ( Baccarat&#39;… ', {'type': 'mention', 'text': '@truonggiang7979'}, '\\n', {'type': 'bold', 'text': 'Sender:'}, ' 🇻🇳 VNM, Vân Anh , ', {'type': 'mention', 'text': '@anhxinh68'}, '\\n07.08.22, 07:43  🌕 0%\\n', {'type': 'bot_command', 'text': '/pattern785281986'}, ' · ', {'type': 'bot_command', 'text': '/abuse785281986'}, ' · ', {'type': 'bot_command', 'text': '/eng785281986'}, '']),\n",
       "       '😌 NO',\n",
       "       list(['Report ', {'type': 'hashtag', 'text': '#r785281986'}, ' marked as not spam 😌\\nSend ', {'type': 'bot_command', 'text': '/undo785281986'}, ' to revert your decision.']),\n",
       "       list([{'type': 'italic', 'text': '🌚 100%'}, '\\n❗ВНИМАНИЯ❗\\n\\n Успей купить по выгодной цене \\n⤵️Личные кабинеты банков 🏦\\n\\n✅Moneybase\\n✅Revolut, \\n✅Verse, \\n✅ iCard\\n✅Wise,\\n✅Dzing\\n✅Privat24, \\n✅Barter, \\n✅Bankera, \\n✅Genome, \\n✅Zen,\\nЦена 🔥 связь тут ', {'type': 'mention', 'text': '@maks_ivano'}, '\\n\\n ', {'type': 'italic', 'text': 'User links: 1'}, '']),\n",
       "       list([{'type': 'hashtag', 'text': '#r782066297'}, ', 😱2\\n', {'type': 'bold', 'text': 'Source:'}, ' Facebook Pro - мекка арбитража ', {'type': 'mention', 'text': '@facebookpro'}, '\\n', {'type': 'bold', 'text': 'Sender:'}, ' 🇷🇺 RUS, Артём Грузнов, ', {'type': 'mention', 'text': '@artjom_kar'}, '\\n07.08.22, 06:48  🌚 100%\\n', {'type': 'bot_command', 'text': '/pattern782066297'}, ' · ', {'type': 'bot_command', 'text': '/abuse782066297'}, ' · ', {'type': 'bot_command', 'text': '/eng782066297'}, '']),\n",
       "       '😡 SPAM',\n",
       "       list(['Report ', {'type': 'hashtag', 'text': '#r782066297'}, ' marked as spam 😡\\nSend ', {'type': 'bot_command', 'text': '/undo782066297'}, ' to revert your decision.']),\n",
       "       list([{'type': 'italic', 'text': '🌕 0%'}, '\\n', {'type': 'link', 'text': 'https://t.me/SGBB_VN14'}, '\\n\\n ', {'type': 'italic', 'text': 'Channel links: 1'}, '']),\n",
       "       list([{'type': 'hashtag', 'text': '#r786017572'}, ', 😱2\\n', {'type': 'bold', 'text': 'Source:'}, ' ♥️♦️♣️ GIA LÂM VIP 1 LỆNH BACCARAT ♦️♥️ ', {'type': 'mention', 'text': '@GIALAMVIP1LENH666666'}, '\\n', {'type': 'bold', 'text': 'Sender:'}, ' 🇻🇳 VNM, Nguyễn Thị Bích Liê…\\n07.08.22, 07:45  🌕 0%\\n', {'type': 'bot_command', 'text': '/pattern786017572'}, ' · ', {'type': 'bot_command', 'text': '/abuse786017572'}, ' · ', {'type': 'bot_command', 'text': '/eng786017572'}, ''])],\n",
       "      dtype=object)"
      ]
     },
     "execution_count": 6,
     "metadata": {},
     "output_type": "execute_result"
    }
   ],
   "source": [
    "data_messages['text'][:10].values"
   ]
  },
  {
   "cell_type": "code",
   "execution_count": 7,
   "metadata": {},
   "outputs": [
    {
     "data": {
      "text/plain": [
       "(1057393, 27)"
      ]
     },
     "execution_count": 7,
     "metadata": {},
     "output_type": "execute_result"
    }
   ],
   "source": [
    "data_messages.shape"
   ]
  },
  {
   "cell_type": "markdown",
   "metadata": {},
   "source": [
    "Заводим массив сообщений, каждый раз когда когда пользователь даёт оценку, сохраняем сообщение, когда \"говорит\" бот запоминаем текст сообщения и его автора"
   ]
  },
  {
   "cell_type": "code",
   "execution_count": 8,
   "metadata": {},
   "outputs": [],
   "source": [
    "messages = []\n",
    "msg = {}\n",
    "text=''\n",
    "\n",
    "for message in data['messages']:\n",
    "    if message.__contains__('from_id'):\n",
    "        if (message['from_id']==employer_id):\n",
    "            marked = False\n",
    "            if (message['text']=='😌 NO'):\n",
    "                msg['spam']=0\n",
    "                marked = True\n",
    "\n",
    "            if (message['text']=='😡 SPAM'):\n",
    "                msg['spam']=1\n",
    "                marked = True\n",
    "\n",
    "            if (marked):\n",
    "                msg['id']=message['id']\n",
    "                msg['text']=text.replace('\\n',' ')\n",
    "                text=''\n",
    "                msg={}\n",
    "                messages.append(msg)\n",
    "\n",
    "                \n",
    "        if (message['from_id']==contractor_bot_id):\n",
    "            if (message.__contains__('forwarded_from')):\n",
    "                if (message['forwarded_from'] is not None):\n",
    "                    msg['author'] = message['forwarded_from']\n",
    "                    \n",
    "                for each in message['text'][1:]:\n",
    "                    if (type(each)==str):\n",
    "                        text+=' '+each\n",
    "                    elif each.__contains__('type'):\n",
    "                        if each['type']=='link':\n",
    "                            msg['link']=1\n",
    "                        text+=' '+each['text']\n",
    "                \n",
    "                \n",
    "\n",
    "            if (message.__contains__('reply_to_message_id')):\n",
    "                if message['text'][0]=='🔴 ':\n",
    "                    msg['source']=message['text'][4]\n",
    "                else:\n",
    "                    msg['source']=message['text'][3]\n",
    "        \n",
    "df=pd.DataFrame(messages).fillna(0)        "
   ]
  },
  {
   "cell_type": "markdown",
   "metadata": {},
   "source": [
    "### EDA"
   ]
  },
  {
   "cell_type": "code",
   "execution_count": 9,
   "metadata": {},
   "outputs": [
    {
     "data": {
      "text/html": [
       "<div>\n",
       "<style scoped>\n",
       "    .dataframe tbody tr th:only-of-type {\n",
       "        vertical-align: middle;\n",
       "    }\n",
       "\n",
       "    .dataframe tbody tr th {\n",
       "        vertical-align: top;\n",
       "    }\n",
       "\n",
       "    .dataframe thead th {\n",
       "        text-align: right;\n",
       "    }\n",
       "</style>\n",
       "<table border=\"1\" class=\"dataframe\">\n",
       "  <thead>\n",
       "    <tr style=\"text-align: right;\">\n",
       "      <th></th>\n",
       "      <th>author</th>\n",
       "      <th>source</th>\n",
       "      <th>spam</th>\n",
       "      <th>id</th>\n",
       "      <th>text</th>\n",
       "      <th>link</th>\n",
       "    </tr>\n",
       "  </thead>\n",
       "  <tbody>\n",
       "    <tr>\n",
       "      <th>count</th>\n",
       "      <td>257856.0</td>\n",
       "      <td>257856</td>\n",
       "      <td>257856.000000</td>\n",
       "      <td>2.578560e+05</td>\n",
       "      <td>257856</td>\n",
       "      <td>257856.000000</td>\n",
       "    </tr>\n",
       "    <tr>\n",
       "      <th>unique</th>\n",
       "      <td>141830.0</td>\n",
       "      <td>121055</td>\n",
       "      <td>NaN</td>\n",
       "      <td>NaN</td>\n",
       "      <td>179024</td>\n",
       "      <td>NaN</td>\n",
       "    </tr>\n",
       "    <tr>\n",
       "      <th>top</th>\n",
       "      <td>0.0</td>\n",
       "      <td></td>\n",
       "      <td>NaN</td>\n",
       "      <td>NaN</td>\n",
       "      <td></td>\n",
       "      <td>NaN</td>\n",
       "    </tr>\n",
       "    <tr>\n",
       "      <th>freq</th>\n",
       "      <td>55633.0</td>\n",
       "      <td>6114</td>\n",
       "      <td>NaN</td>\n",
       "      <td>NaN</td>\n",
       "      <td>17029</td>\n",
       "      <td>NaN</td>\n",
       "    </tr>\n",
       "    <tr>\n",
       "      <th>mean</th>\n",
       "      <td>NaN</td>\n",
       "      <td>NaN</td>\n",
       "      <td>0.521702</td>\n",
       "      <td>9.466446e+06</td>\n",
       "      <td>NaN</td>\n",
       "      <td>0.204029</td>\n",
       "    </tr>\n",
       "    <tr>\n",
       "      <th>std</th>\n",
       "      <td>NaN</td>\n",
       "      <td>NaN</td>\n",
       "      <td>0.499530</td>\n",
       "      <td>3.129677e+05</td>\n",
       "      <td>NaN</td>\n",
       "      <td>0.402991</td>\n",
       "    </tr>\n",
       "    <tr>\n",
       "      <th>min</th>\n",
       "      <td>NaN</td>\n",
       "      <td>NaN</td>\n",
       "      <td>0.000000</td>\n",
       "      <td>0.000000e+00</td>\n",
       "      <td>NaN</td>\n",
       "      <td>0.000000</td>\n",
       "    </tr>\n",
       "    <tr>\n",
       "      <th>25%</th>\n",
       "      <td>NaN</td>\n",
       "      <td>NaN</td>\n",
       "      <td>0.000000</td>\n",
       "      <td>9.195241e+06</td>\n",
       "      <td>NaN</td>\n",
       "      <td>0.000000</td>\n",
       "    </tr>\n",
       "    <tr>\n",
       "      <th>50%</th>\n",
       "      <td>NaN</td>\n",
       "      <td>NaN</td>\n",
       "      <td>1.000000</td>\n",
       "      <td>9.464955e+06</td>\n",
       "      <td>NaN</td>\n",
       "      <td>0.000000</td>\n",
       "    </tr>\n",
       "    <tr>\n",
       "      <th>75%</th>\n",
       "      <td>NaN</td>\n",
       "      <td>NaN</td>\n",
       "      <td>1.000000</td>\n",
       "      <td>9.738300e+06</td>\n",
       "      <td>NaN</td>\n",
       "      <td>0.000000</td>\n",
       "    </tr>\n",
       "    <tr>\n",
       "      <th>max</th>\n",
       "      <td>NaN</td>\n",
       "      <td>NaN</td>\n",
       "      <td>1.000000</td>\n",
       "      <td>1.000695e+07</td>\n",
       "      <td>NaN</td>\n",
       "      <td>1.000000</td>\n",
       "    </tr>\n",
       "  </tbody>\n",
       "</table>\n",
       "</div>"
      ],
      "text/plain": [
       "          author  source           spam            id    text           link\n",
       "count   257856.0  257856  257856.000000  2.578560e+05  257856  257856.000000\n",
       "unique  141830.0  121055            NaN           NaN  179024            NaN\n",
       "top          0.0                    NaN           NaN                    NaN\n",
       "freq     55633.0    6114            NaN           NaN   17029            NaN\n",
       "mean         NaN     NaN       0.521702  9.466446e+06     NaN       0.204029\n",
       "std          NaN     NaN       0.499530  3.129677e+05     NaN       0.402991\n",
       "min          NaN     NaN       0.000000  0.000000e+00     NaN       0.000000\n",
       "25%          NaN     NaN       0.000000  9.195241e+06     NaN       0.000000\n",
       "50%          NaN     NaN       1.000000  9.464955e+06     NaN       0.000000\n",
       "75%          NaN     NaN       1.000000  9.738300e+06     NaN       0.000000\n",
       "max          NaN     NaN       1.000000  1.000695e+07     NaN       1.000000"
      ]
     },
     "execution_count": 9,
     "metadata": {},
     "output_type": "execute_result"
    }
   ],
   "source": [
    "df.describe(include='all')"
   ]
  },
  {
   "cell_type": "code",
   "execution_count": 10,
   "metadata": {},
   "outputs": [
    {
     "name": "stdout",
     "output_type": "stream",
     "text": [
      "<class 'pandas.core.frame.DataFrame'>\n",
      "RangeIndex: 257856 entries, 0 to 257855\n",
      "Data columns (total 6 columns):\n",
      " #   Column  Non-Null Count   Dtype  \n",
      "---  ------  --------------   -----  \n",
      " 0   author  257856 non-null  object \n",
      " 1   source  257856 non-null  object \n",
      " 2   spam    257856 non-null  float64\n",
      " 3   id      257856 non-null  float64\n",
      " 4   text    257856 non-null  object \n",
      " 5   link    257856 non-null  float64\n",
      "dtypes: float64(3), object(3)\n",
      "memory usage: 11.8+ MB\n"
     ]
    }
   ],
   "source": [
    "df.info()"
   ]
  },
  {
   "cell_type": "code",
   "execution_count": 11,
   "metadata": {},
   "outputs": [
    {
     "name": "stdout",
     "output_type": "stream",
     "text": [
      "<class 'pandas.core.frame.DataFrame'>\n",
      "RangeIndex: 257856 entries, 0 to 257855\n",
      "Data columns (total 6 columns):\n",
      " #   Column  Non-Null Count   Dtype  \n",
      "---  ------  --------------   -----  \n",
      " 0   author  257856 non-null  object \n",
      " 1   source  257856 non-null  object \n",
      " 2   spam    257856 non-null  float64\n",
      " 3   id      257856 non-null  float64\n",
      " 4   text    257856 non-null  object \n",
      " 5   link    257856 non-null  float64\n",
      "dtypes: float64(3), object(3)\n",
      "memory usage: 11.8+ MB\n"
     ]
    }
   ],
   "source": [
    "df[['author','source','text']]=df[['author','source','text']].astype(dtype='str',)\n",
    "df.info()"
   ]
  },
  {
   "cell_type": "markdown",
   "metadata": {},
   "source": [
    "Почистим данные по длине строки"
   ]
  },
  {
   "cell_type": "code",
   "execution_count": 13,
   "metadata": {},
   "outputs": [
    {
     "data": {
      "text/plain": [
       "<AxesSubplot:>"
      ]
     },
     "execution_count": 13,
     "metadata": {},
     "output_type": "execute_result"
    },
    {
     "data": {
      "image/png": "[encoded data removed]",
      "text/plain": [
       "<Figure size 432x288 with 1 Axes>"
      ]
     },
     "metadata": {
      "needs_background": "light"
     },
     "output_type": "display_data"
    }
   ],
   "source": [
    "df['len_text']=df['text'].astype('str').apply(lambda x: len(x))\n",
    "df['len_text'].hist()"
   ]
  },
  {
   "cell_type": "code",
   "execution_count": 17,
   "metadata": {},
   "outputs": [
    {
     "data": {
      "text/plain": [
       "<AxesSubplot:>"
      ]
     },
     "execution_count": 17,
     "metadata": {},
     "output_type": "execute_result"
    },
    {
     "data": {
      "image/png": "[encoded data removed]",
      "text/plain": [
       "<Figure size 432x288 with 1 Axes>"
      ]
     },
     "metadata": {
      "needs_background": "light"
     },
     "output_type": "display_data"
    }
   ],
   "source": [
    "df[df['len_text']<1000]['len_text'].hist()"
   ]
  },
  {
   "cell_type": "code",
   "execution_count": 20,
   "metadata": {},
   "outputs": [
    {
     "data": {
      "text/plain": [
       "<AxesSubplot:title={'center':'len_text'}, xlabel='spam'>"
      ]
     },
     "execution_count": 20,
     "metadata": {},
     "output_type": "execute_result"
    },
    {
     "data": {
      "image/png": "[encoded data removed]",
      "text/plain": [
       "<Figure size 432x288 with 1 Axes>"
      ]
     },
     "metadata": {
      "needs_background": "light"
     },
     "output_type": "display_data"
    }
   ],
   "source": [
    "IQR = df['len_text'].quantile(0.75) - df['len_text'].quantile(0.25)\n",
    "up_bound = df['len_text'].quantile(0.75) + (IQR * 1.5)\n",
    "df = df[(df['len_text']>5) & (df['len_text']<up_bound)]\n",
    "df.boxplot(column='len_text', by='spam')"
   ]
  },
  {
   "cell_type": "code",
   "execution_count": 23,
   "metadata": {},
   "outputs": [
    {
     "data": {
      "image/png": "[encoded data removed]",
      "text/plain": [
       "<Figure size 432x288 with 1 Axes>"
      ]
     },
     "metadata": {
      "needs_background": "light"
     },
     "output_type": "display_data"
    }
   ],
   "source": [
    "df['len_text'].hist();"
   ]
  },
  {
   "cell_type": "markdown",
   "metadata": {},
   "source": [
    "Объединяем автора сообщения с самим сообщением (Бывает случаи когда \"тело\" спама находится в имени автора)"
   ]
  },
  {
   "cell_type": "code",
   "execution_count": 24,
   "metadata": {},
   "outputs": [],
   "source": [
    "df.text = df.author.astype(str).str.cat(df.text)"
   ]
  },
  {
   "cell_type": "markdown",
   "metadata": {},
   "source": [
    "Делим выборку на тренировочную, тестовую и проверочную"
   ]
  },
  {
   "cell_type": "code",
   "execution_count": 25,
   "metadata": {},
   "outputs": [],
   "source": [
    "df_save = df[['spam','text']]\n",
    "df_save.columns = ['label','text']\n",
    "train_test, eval = train_test_split(df_save, train_size=0.9)\n",
    "train, test = train_test_split(train_test, train_size=0.9)"
   ]
  },
  {
   "cell_type": "code",
   "execution_count": 26,
   "metadata": {},
   "outputs": [
    {
     "data": {
      "text/html": [
       "<div>\n",
       "<style scoped>\n",
       "    .dataframe tbody tr th:only-of-type {\n",
       "        vertical-align: middle;\n",
       "    }\n",
       "\n",
       "    .dataframe tbody tr th {\n",
       "        vertical-align: top;\n",
       "    }\n",
       "\n",
       "    .dataframe thead th {\n",
       "        text-align: right;\n",
       "    }\n",
       "</style>\n",
       "<table border=\"1\" class=\"dataframe\">\n",
       "  <thead>\n",
       "    <tr style=\"text-align: right;\">\n",
       "      <th></th>\n",
       "      <th>label</th>\n",
       "      <th>text</th>\n",
       "    </tr>\n",
       "  </thead>\n",
       "  <tbody>\n",
       "    <tr>\n",
       "      <th>236169</th>\n",
       "      <td>0.0</td>\n",
       "      <td>FILL  Привет, кто со мной мяукать??</td>\n",
       "    </tr>\n",
       "    <tr>\n",
       "      <th>200933</th>\n",
       "      <td>0.0</td>\n",
       "      <td>Pr0v0 C//p  Pr0v0 🔞🔥</td>\n",
       "    </tr>\n",
       "    <tr>\n",
       "      <th>205894</th>\n",
       "      <td>1.0</td>\n",
       "      <td>Cskhgiftcode  🎁 CODE 300K 𝐕𝐔𝐀𝟔𝟗CLUB ✅ FULL COD...</td>\n",
       "    </tr>\n",
       "    <tr>\n",
       "      <th>115619</th>\n",
       "      <td>1.0</td>\n",
       "      <td>0  🚨PLEASE PAY ATTENTION🚨 Telegram is now home...</td>\n",
       "    </tr>\n",
       "    <tr>\n",
       "      <th>120610</th>\n",
       "      <td>0.0</td>\n",
       "      <td>𝑷𝒐'𝒙𝒙𝒐𝒚 𝑹𝒆𝒋𝒊𝒎.......𝑶𝒏  Mengga qara hurmatli l...</td>\n",
       "    </tr>\n",
       "  </tbody>\n",
       "</table>\n",
       "</div>"
      ],
      "text/plain": [
       "        label                                               text\n",
       "236169    0.0                FILL  Привет, кто со мной мяукать??\n",
       "200933    0.0                               Pr0v0 C//p  Pr0v0 🔞🔥\n",
       "205894    1.0  Cskhgiftcode  🎁 CODE 300K 𝐕𝐔𝐀𝟔𝟗CLUB ✅ FULL COD...\n",
       "115619    1.0  0  🚨PLEASE PAY ATTENTION🚨 Telegram is now home...\n",
       "120610    0.0  𝑷𝒐'𝒙𝒙𝒐𝒚 𝑹𝒆𝒋𝒊𝒎.......𝑶𝒏  Mengga qara hurmatli l..."
      ]
     },
     "execution_count": 26,
     "metadata": {},
     "output_type": "execute_result"
    }
   ],
   "source": [
    "test.head()"
   ]
  },
  {
   "cell_type": "markdown",
   "metadata": {},
   "source": [
    "Сохранение разметки"
   ]
  },
  {
   "cell_type": "code",
   "execution_count": 27,
   "metadata": {},
   "outputs": [],
   "source": [
    "train.to_json(train_path,orient='records', force_ascii=False)\n",
    "test.to_json(test_path,orient='records', force_ascii=False)\n",
    "eval.to_json(eval_path,orient='records', force_ascii=False)\n",
    "df_save.to_json(df_path,orient='records', force_ascii=False)"
   ]
  },
  {
   "cell_type": "markdown",
   "metadata": {},
   "source": [
    "## Word-2-Vec + gensim"
   ]
  },
  {
   "cell_type": "code",
   "execution_count": 5,
   "metadata": {},
   "outputs": [
    {
     "data": {
      "text/html": [
       "<style>.container { width:80% !important; }</style>"
      ],
      "text/plain": [
       "<IPython.core.display.HTML object>"
      ]
     },
     "metadata": {},
     "output_type": "display_data"
    }
   ],
   "source": [
    "from gensim.models import Word2Vec\n",
    "from pymystem3 import Mystem\n",
    "import numpy as np\n",
    "from sklearn.pipeline import Pipeline\n",
    "from sklearn.impute import SimpleImputer #, KNNImputer\n",
    "from sklearn.compose import make_column_selector\n",
    "from sklearn.svm import LinearSVC\n",
    "from sklearn.pipeline import Pipeline, make_pipeline\n",
    "from sklearn.ensemble import StackingClassifier, RandomForestClassifier\n",
    "from sklearn.linear_model import LogisticRegression\n",
    "import xgboost\n",
    "import catboost\n",
    "from IPython.core.display import display, HTML\n",
    "from sklearn.feature_extraction.text import TfidfVectorizer\n",
    "from collections import defaultdict\n",
    "display(HTML(\"<style>.container { width:80% !important; }</style>\"))"
   ]
  },
  {
   "cell_type": "code",
   "execution_count": 6,
   "metadata": {},
   "outputs": [],
   "source": [
    "df_save=pd.read_json(df_path,orient='records')\n",
    "train=pd.read_json(train_path,orient='records')\n",
    "test=pd.read_json(test_path,orient='records')"
   ]
  },
  {
   "cell_type": "code",
   "execution_count": 7,
   "metadata": {},
   "outputs": [
    {
     "data": {
      "text/plain": [
       "'Проверка лемматизации и проверки на слова :))'"
      ]
     },
     "execution_count": 7,
     "metadata": {},
     "output_type": "execute_result"
    }
   ],
   "source": [
    "m = Mystem()\n",
    "regex = re.compile(\"[А-Яа-я:=!\\)\\()A-z\\_\\%/|]+\")\n",
    "\n",
    "def words_only(text, regex=regex):\n",
    "    try:\n",
    "        return \" \".join(regex.findall(text))\n",
    "    except:\n",
    "        return \"\"\n",
    "\n",
    "def lemmatize(text, mystem=m):\n",
    "    try:\n",
    "        return \"\".join(m.lemmatize(text)).strip()  \n",
    "    except:\n",
    "        return \" \"\n",
    "\n",
    "words_only('Проверка 1 лемматизации и 1 проверки на слова :))')"
   ]
  },
  {
   "cell_type": "code",
   "execution_count": 8,
   "metadata": {},
   "outputs": [
    {
     "name": "stdout",
     "output_type": "stream",
     "text": [
      "CPU times: user 1.39 s, sys: 205 ms, total: 1.59 s\n",
      "Wall time: 9.4 s\n",
      "CPU times: user 19.4 s, sys: 3.09 s, total: 22.5 s\n",
      "Wall time: 6min 8s\n"
     ]
    }
   ],
   "source": [
    "%time df_save.text = df_save.text.apply(words_only)\n",
    "%time df_save.text = df_save.text.apply(lemmatize)"
   ]
  },
  {
   "cell_type": "code",
   "execution_count": 9,
   "metadata": {},
   "outputs": [],
   "source": [
    "texts = [df_save.text.iloc[i].split() for i in range(len(df_save))]"
   ]
  },
  {
   "cell_type": "code",
   "execution_count": 10,
   "metadata": {},
   "outputs": [
    {
     "name": "stdout",
     "output_type": "stream",
     "text": [
      "CPU times: user 47.4 s, sys: 5.08 s, total: 52.5 s\n",
      "Wall time: 27.7 s\n"
     ]
    }
   ],
   "source": [
    "%%time\n",
    "model = Word2Vec(texts, window=5, min_count=5, workers=4)\n",
    "model.save(\"word2v.model\")"
   ]
  },
  {
   "cell_type": "code",
   "execution_count": 11,
   "metadata": {},
   "outputs": [],
   "source": [
    "model = Word2Vec.load(w2v_model_name) "
   ]
  },
  {
   "cell_type": "code",
   "execution_count": 10,
   "metadata": {},
   "outputs": [
    {
     "data": {
      "text/plain": [
       "[('личка', 0.9578715562820435),\n",
       " ('ЛС', 0.9501171708106995),\n",
       " ('Лс', 0.8801920413970947),\n",
       " ('директ', 0.8724393844604492),\n",
       " ('лс)', 0.8688517212867737),\n",
       " ('л/с', 0.8661670088768005),\n",
       " ('ЛС)', 0.863395631313324),\n",
       " ('личка!', 0.8515932559967041),\n",
       " ('ЛС!', 0.8509644865989685),\n",
       " ('ТГ', 0.84438157081604)]"
      ]
     },
     "execution_count": 10,
     "metadata": {},
     "output_type": "execute_result"
    }
   ],
   "source": [
    "model.wv.most_similar(\"лс\")"
   ]
  },
  {
   "cell_type": "code",
   "execution_count": 11,
   "metadata": {},
   "outputs": [
    {
     "data": {
      "text/plain": [
       "[('гаш', 0.9680689573287964),\n",
       " ('ск', 0.9653255939483643),\n",
       " ('шишка', 0.9432579874992371),\n",
       " ('мефедрон', 0.9315119981765747),\n",
       " ('кристалл', 0.928811252117157),\n",
       " ('гашиш', 0.9156591892242432),\n",
       " ('крис', 0.9125720858573914),\n",
       " ('метадон', 0.9113448262214661),\n",
       " ('гр', 0.896694004535675),\n",
       " ('соль', 0.8857972025871277)]"
      ]
     },
     "execution_count": 11,
     "metadata": {},
     "output_type": "execute_result"
    }
   ],
   "source": [
    "model.wv.most_similar(\"меф\")"
   ]
  },
  {
   "cell_type": "code",
   "execution_count": 12,
   "metadata": {},
   "outputs": [
    {
     "name": "stdout",
     "output_type": "stream",
     "text": [
      "CPU times: user 11 s, sys: 1.32 s, total: 12.3 s\n",
      "Wall time: 1min 2s\n",
      "CPU times: user 1.26 s, sys: 77.6 ms, total: 1.34 s\n",
      "Wall time: 6.18 s\n"
     ]
    }
   ],
   "source": [
    "%time train.text = train.text.apply(words_only).apply(lemmatize)\n",
    "%time test.text = test.text.apply(words_only).apply(lemmatize)"
   ]
  },
  {
   "cell_type": "code",
   "execution_count": 13,
   "metadata": {},
   "outputs": [
    {
     "name": "stdout",
     "output_type": "stream",
     "text": [
      "total train examples 167803\n",
      "total test examples 18645\n"
     ]
    }
   ],
   "source": [
    "X_train = train.text.tolist()\n",
    "y_train = train.label.tolist()\n",
    "X_test = test.text.tolist()\n",
    "y_test = test.label.tolist()\n",
    "\n",
    "print (\"total train examples %s\" % len(y_train))\n",
    "print (\"total test examples %s\" % len(y_test))"
   ]
  },
  {
   "cell_type": "code",
   "execution_count": 14,
   "metadata": {},
   "outputs": [],
   "source": [
    "w2v = dict(zip(model.wv.index_to_key, model.wv.vectors))\n",
    "\n",
    "class TfidfEmbeddingVectorizer(object):\n",
    "    def __init__(self, word2vec):\n",
    "        self.word2vec = word2vec\n",
    "        self.word2weight = None\n",
    "        self.dim = len(w2v.popitem()[1])\n",
    "\n",
    "    def fit(self, X, y):\n",
    "        tfidf = TfidfVectorizer(analyzer=lambda x: x)\n",
    "        tfidf.fit(X)\n",
    "        max_idf = max(tfidf.idf_)\n",
    "        self.word2weight = defaultdict(\n",
    "            lambda: max_idf,\n",
    "            [(w, tfidf.idf_[i]) for w, i in tfidf.vocabulary_.items()])\n",
    "\n",
    "        return self\n",
    "\n",
    "    def transform(self, X):\n",
    "        return np.array([\n",
    "                np.mean([self.word2vec[w] * self.word2weight[w]\n",
    "                         for w in words if w in self.word2vec] or\n",
    "                        [np.zeros(self.dim)], axis=0)\n",
    "                for words in X\n",
    "            ])"
   ]
  },
  {
   "cell_type": "code",
   "execution_count": 30,
   "metadata": {},
   "outputs": [
    {
     "name": "stdout",
     "output_type": "stream",
     "text": [
      "              precision    recall  f1-score   support\n",
      "\n",
      "           0       0.87      0.87      0.87      8696\n",
      "           1       0.89      0.88      0.89      9949\n",
      "\n",
      "    accuracy                           0.88     18645\n",
      "   macro avg       0.88      0.88      0.88     18645\n",
      "weighted avg       0.88      0.88      0.88     18645\n",
      "\n"
     ]
    },
    {
     "data": {
      "image/png": "[encoded data removed]",
      "text/plain": [
       "<Figure size 432x288 with 1 Axes>"
      ]
     },
     "metadata": {
      "needs_background": "light"
     },
     "output_type": "display_data"
    },
    {
     "data": {
      "image/png": "[encoded data removed]",
      "text/plain": [
       "<Figure size 432x288 with 2 Axes>"
      ]
     },
     "metadata": {
      "needs_background": "light"
     },
     "output_type": "display_data"
    }
   ],
   "source": [
    "from xgboost import XGBClassifier\n",
    "rfc_w2v = Pipeline([\n",
    "    (\"word2vec vectorizer\", TfidfEmbeddingVectorizer(w2v)),\n",
    "    (\"classifier\", XGBClassifier())\n",
    "])\n",
    "\n",
    "rfc_w2v.fit(X_train,y_train)\n",
    "preds = rfc_w2v.predict(X_test)\n",
    "show_metrics(y_test, preds)"
   ]
  },
  {
   "cell_type": "code",
   "execution_count": 22,
   "metadata": {},
   "outputs": [],
   "source": [
    "rfc_w2v = Pipeline([\n",
    "    (\"word2vec vectorizer\", TfidfEmbeddingVectorizer(w2v)),\n",
    "    (\"classifier\", RandomForestClassifier(n_estimators=100))])\n",
    "\n",
    "rfc_w2v.fit(X_train,y_train)\n",
    "preds = rfc_w2v.predict(X_test)"
   ]
  },
  {
   "cell_type": "code",
   "execution_count": 16,
   "metadata": {},
   "outputs": [
    {
     "name": "stdout",
     "output_type": "stream",
     "text": [
      "              precision    recall  f1-score   support\n",
      "\n",
      "           0       0.85      0.90      0.87      8696\n",
      "           1       0.91      0.86      0.88      9949\n",
      "\n",
      "    accuracy                           0.88     18645\n",
      "   macro avg       0.88      0.88      0.88     18645\n",
      "weighted avg       0.88      0.88      0.88     18645\n",
      "\n"
     ]
    },
    {
     "data": {
      "image/png": "[encoded data removed]",
      "text/plain": [
       "<Figure size 432x288 with 1 Axes>"
      ]
     },
     "metadata": {
      "needs_background": "light"
     },
     "output_type": "display_data"
    },
    {
     "data": {
      "image/png": "[encoded data removed]",
      "text/plain": [
       "<Figure size 432x288 with 2 Axes>"
      ]
     },
     "metadata": {
      "needs_background": "light"
     },
     "output_type": "display_data"
    }
   ],
   "source": [
    "show_metrics(y_test, preds)"
   ]
  },
  {
   "cell_type": "code",
   "execution_count": 32,
   "metadata": {},
   "outputs": [
    {
     "name": "stdout",
     "output_type": "stream",
     "text": [
      "Fitting 3 folds for each of 9 candidates, totalling 27 fits\n"
     ]
    }
   ],
   "source": [
    "from sklearn.model_selection import GridSearchCV, RandomizedSearchCV\n",
    "from sklearn.metrics import f1_score, make_scorer\n",
    "f1 = make_scorer(f1_score, average='macro')\n",
    "\n",
    "param_grid = {\n",
    "    'classifier__bootstrap': [False],\n",
    "    'classifier__max_depth': [70],\n",
    "    'classifier__max_features': ['auto'],\n",
    "    'classifier__min_samples_leaf': [1],\n",
    "    'classifier__min_samples_split': [3, 5, 7],\n",
    "    'classifier__n_estimators': [500, 600, 800],\n",
    "\n",
    "}\n",
    "\n",
    "search = GridSearchCV(rfc_w2v, param_grid, \n",
    "                      verbose=True, \n",
    "                      n_jobs=-1, cv=3, scoring=f1)\n",
    "\n",
    "search.fit(X_train, y_train)"
   ]
  },
  {
   "cell_type": "code",
   "execution_count": null,
   "metadata": {},
   "outputs": [
    {
     "data": {
      "text/plain": [
       "{'classifier__bootstrap': False,\n",
       " 'classifier__max_depth': 70,\n",
       " 'classifier__max_features': 'auto',\n",
       " 'classifier__min_samples_leaf': 1,\n",
       " 'classifier__min_samples_split': 5,\n",
       " 'classifier__n_estimators': 600}"
      ]
     },
     "execution_count": 31,
     "metadata": {},
     "output_type": "execute_result"
    }
   ],
   "source": [
    "search.best_params_"
   ]
  },
  {
   "cell_type": "code",
   "execution_count": null,
   "metadata": {},
   "outputs": [
    {
     "name": "stdout",
     "output_type": "stream",
     "text": [
      "              precision    recall  f1-score   support\n",
      "\n",
      "           0       0.85      0.91      0.88      8696\n",
      "           1       0.91      0.86      0.88      9949\n",
      "\n",
      "    accuracy                           0.88     18645\n",
      "   macro avg       0.88      0.88      0.88     18645\n",
      "weighted avg       0.88      0.88      0.88     18645\n",
      "\n"
     ]
    },
    {
     "data": {
      "image/png": "[encoded data removed]",
      "text/plain": [
       "<Figure size 432x288 with 1 Axes>"
      ]
     },
     "metadata": {
      "needs_background": "light"
     },
     "output_type": "display_data"
    },
    {
     "data": {
      "image/png": "[encoded data removed]",
      "text/plain": [
       "<Figure size 432x288 with 2 Axes>"
      ]
     },
     "metadata": {
      "needs_background": "light"
     },
     "output_type": "display_data"
    }
   ],
   "source": [
    "preds = search.predict(X_test)\n",
    "show_metrics(y_test, preds)"
   ]
  },
  {
   "cell_type": "code",
   "execution_count": 17,
   "metadata": {},
   "outputs": [],
   "source": [
    "preprocessor = Pipeline(steps=[\n",
    "    (\"word2vec vectorizer\", TfidfEmbeddingVectorizer(w2v)),\n",
    "    # (\"feature_selector\", SelectKBest(score_func=f_classif, k=\"all\"))\n",
    "    ])\n",
    "\n",
    "\n",
    "estimators = [\n",
    "    (\"SVM\", make_pipeline(preprocessor, LinearSVC())),\n",
    "    (\"Random_Forest\", make_pipeline(preprocessor, RandomForestClassifier(n_jobs=-1))),\n",
    "    (\"xgboost\", make_pipeline(preprocessor, xgboost.XGBClassifier(n_jobs=-1))),\n",
    "    # (\"catboost\", make_pipeline(preprocessor, catboost.CatBoostClassifier(verbose=False)))\n",
    "]\n",
    "\n",
    "stacking_classifier = StackingClassifier(\n",
    "    estimators=estimators,\n",
    "    final_estimator=LogisticRegression(n_jobs=-1, verbose=True),\n",
    "    n_jobs=-1,\n",
    "    verbose=True,\n",
    ")"
   ]
  },
  {
   "cell_type": "code",
   "execution_count": 18,
   "metadata": {},
   "outputs": [
    {
     "name": "stderr",
     "output_type": "stream",
     "text": [
      "[Parallel(n_jobs=-1)]: Using backend LokyBackend with 4 concurrent workers.\n",
      "[Parallel(n_jobs=-1)]: Done   1 out of   1 | elapsed:    1.7s finished\n"
     ]
    },
    {
     "data": {
      "text/plain": [
       "StackingClassifier(estimators=[('SVM',\n",
       "                                Pipeline(steps=[('pipeline',\n",
       "                                                 Pipeline(steps=[('word2vec '\n",
       "                                                                  'vectorizer',\n",
       "                                                                  <__main__.TfidfEmbeddingVectorizer object at 0x7feff7a4f760>)])),\n",
       "                                                ('linearsvc', LinearSVC())])),\n",
       "                               ('Random_Forest',\n",
       "                                Pipeline(steps=[('pipeline',\n",
       "                                                 Pipeline(steps=[('word2vec '\n",
       "                                                                  'vectorizer',\n",
       "                                                                  <__main__.TfidfEmbeddingVectorizer object at 0x7feff7a4f760>)])),\n",
       "                                                ('rand...\n",
       "                                                               max_bin=None,\n",
       "                                                               max_cat_to_onehot=None,\n",
       "                                                               max_delta_step=None,\n",
       "                                                               max_depth=None,\n",
       "                                                               max_leaves=None,\n",
       "                                                               min_child_weight=None,\n",
       "                                                               missing=nan,\n",
       "                                                               monotone_constraints=None,\n",
       "                                                               n_estimators=100,\n",
       "                                                               n_jobs=-1,\n",
       "                                                               num_parallel_tree=None,\n",
       "                                                               predictor=None,\n",
       "                                                               random_state=None,\n",
       "                                                               reg_alpha=None,\n",
       "                                                               reg_lambda=None, ...))]))],\n",
       "                   final_estimator=LogisticRegression(n_jobs=-1, verbose=True),\n",
       "                   n_jobs=-1, verbose=True)"
      ]
     },
     "execution_count": 18,
     "metadata": {},
     "output_type": "execute_result"
    }
   ],
   "source": [
    "stacking_classifier.fit(X_train, y_train)"
   ]
  },
  {
   "cell_type": "code",
   "execution_count": 19,
   "metadata": {},
   "outputs": [
    {
     "name": "stdout",
     "output_type": "stream",
     "text": [
      "              precision    recall  f1-score   support\n",
      "\n",
      "           0       0.87      0.89      0.88      8696\n",
      "           1       0.90      0.88      0.89      9949\n",
      "\n",
      "    accuracy                           0.89     18645\n",
      "   macro avg       0.88      0.89      0.89     18645\n",
      "weighted avg       0.89      0.89      0.89     18645\n",
      "\n"
     ]
    },
    {
     "data": {
      "image/png": "[encoded data removed]",
      "text/plain": [
       "<Figure size 432x288 with 1 Axes>"
      ]
     },
     "metadata": {
      "needs_background": "light"
     },
     "output_type": "display_data"
    },
    {
     "data": {
      "image/png": "[encoded data removed]",
      "text/plain": [
       "<Figure size 432x288 with 2 Axes>"
      ]
     },
     "metadata": {
      "needs_background": "light"
     },
     "output_type": "display_data"
    }
   ],
   "source": [
    "preds = stacking_classifier.predict(X_test)\n",
    "show_metrics(y_test, preds)"
   ]
  },
  {
   "cell_type": "code",
   "execution_count": 21,
   "metadata": {},
   "outputs": [
    {
     "ename": "AttributeError",
     "evalue": "Can't pickle local object 'TfidfEmbeddingVectorizer.fit.<locals>.<lambda>'",
     "output_type": "error",
     "traceback": [
      "\u001b[0;31m---------------------------------------------------------------------------\u001b[0m",
      "\u001b[0;31mAttributeError\u001b[0m                            Traceback (most recent call last)",
      "\u001b[0;32m<ipython-input-21-186e816b044e>\u001b[0m in \u001b[0;36m<module>\u001b[0;34m\u001b[0m\n\u001b[1;32m      1\u001b[0m \u001b[0;32mimport\u001b[0m \u001b[0mpickle\u001b[0m\u001b[0;34m\u001b[0m\u001b[0;34m\u001b[0m\u001b[0m\n\u001b[1;32m      2\u001b[0m \u001b[0;32mwith\u001b[0m \u001b[0mopen\u001b[0m\u001b[0;34m(\u001b[0m\u001b[0;34m'stacking_pipeline.pkl'\u001b[0m\u001b[0;34m,\u001b[0m\u001b[0;34m'wb'\u001b[0m\u001b[0;34m)\u001b[0m \u001b[0;32mas\u001b[0m \u001b[0mf\u001b[0m\u001b[0;34m:\u001b[0m\u001b[0;34m\u001b[0m\u001b[0;34m\u001b[0m\u001b[0m\n\u001b[0;32m----> 3\u001b[0;31m     \u001b[0mpickle\u001b[0m\u001b[0;34m.\u001b[0m\u001b[0mdump\u001b[0m\u001b[0;34m(\u001b[0m\u001b[0mstacking_classifier\u001b[0m\u001b[0;34m,\u001b[0m \u001b[0mf\u001b[0m\u001b[0;34m)\u001b[0m\u001b[0;34m\u001b[0m\u001b[0;34m\u001b[0m\u001b[0m\n\u001b[0m",
      "\u001b[0;31mAttributeError\u001b[0m: Can't pickle local object 'TfidfEmbeddingVectorizer.fit.<locals>.<lambda>'"
     ]
    }
   ],
   "source": [
    "import pickle\n",
    "with open('stacking_pipeline.pkl','wb') as f:\n",
    "    pickle.dump(stacking_classifier, f)"
   ]
  },
  {
   "cell_type": "markdown",
   "metadata": {},
   "source": [
    "## BERT PyTorch Lightning\n",
    "Обучим BERT с помощью PyTorch Lightning"
   ]
  },
  {
   "cell_type": "code",
   "execution_count": 16,
   "metadata": {},
   "outputs": [],
   "source": [
    "tok_kwargs = dict(padding=\"max_length\", truncation=True, max_length=128)\n",
    "\n",
    "tokenizer = AutoTokenizer.from_pretrained(pretrained_model_name_or_path=origin_bert_name)\n",
    "dm = TextClassificationDataModule(\n",
    "    batch_size=32,\n",
    "    train_file=train_path,\n",
    "    validation_file=test_path,\n",
    "    tokenizer=tokenizer,\n",
    "    **tok_kwargs\n",
    ")"
   ]
  },
  {
   "cell_type": "code",
   "execution_count": 17,
   "metadata": {},
   "outputs": [
    {
     "name": "stderr",
     "output_type": "stream",
     "text": [
      "Using custom data configuration default-4b8fbdee0bdfbfcf\n",
      "Found cached dataset json (/home/Kirill.Fomenko/.cache/huggingface/datasets/json/default-4b8fbdee0bdfbfcf/0.0.0/e6070c77f18f01a5ad4551a8b7edfba20b8438b7cad4d94e6ad9378022ce4aab)\n"
     ]
    },
    {
     "data": {
      "application/vnd.jupyter.widget-view+json": {
       "model_id": "c2d138ca278e40c9aaf6825c2f9e3563",
       "version_major": 2,
       "version_minor": 0
      },
      "text/plain": [
       "  0%|          | 0/2 [00:00<?, ?it/s]"
      ]
     },
     "metadata": {},
     "output_type": "display_data"
    },
    {
     "data": {
      "application/vnd.jupyter.widget-view+json": {
       "model_id": "4f565cb64de540edaf6dacaf9deb31b9",
       "version_major": 2,
       "version_minor": 0
      },
      "text/plain": [
       "  0%|          | 0/184 [00:00<?, ?ba/s]"
      ]
     },
     "metadata": {},
     "output_type": "display_data"
    },
    {
     "data": {
      "application/vnd.jupyter.widget-view+json": {
       "model_id": "ce57c1864cf34ef695470ba5853e4583",
       "version_major": 2,
       "version_minor": 0
      },
      "text/plain": [
       "  0%|          | 0/21 [00:00<?, ?ba/s]"
      ]
     },
     "metadata": {},
     "output_type": "display_data"
    },
    {
     "data": {
      "application/vnd.jupyter.widget-view+json": {
       "model_id": "97611fee31464361bc6506ba2d15d03e",
       "version_major": 2,
       "version_minor": 0
      },
      "text/plain": [
       "Stringifying the column:   0%|          | 0/184 [00:00<?, ?ba/s]"
      ]
     },
     "metadata": {},
     "output_type": "display_data"
    },
    {
     "data": {
      "application/vnd.jupyter.widget-view+json": {
       "model_id": "a800734edd4d4b39a49687afd924b721",
       "version_major": 2,
       "version_minor": 0
      },
      "text/plain": [
       "Casting to class labels:   0%|          | 0/184 [00:00<?, ?ba/s]"
      ]
     },
     "metadata": {},
     "output_type": "display_data"
    },
    {
     "data": {
      "application/vnd.jupyter.widget-view+json": {
       "model_id": "d55125ec6f5442bf91be6ca03c1629b5",
       "version_major": 2,
       "version_minor": 0
      },
      "text/plain": [
       "Casting the dataset:   0%|          | 0/19 [00:00<?, ?ba/s]"
      ]
     },
     "metadata": {},
     "output_type": "display_data"
    },
    {
     "data": {
      "application/vnd.jupyter.widget-view+json": {
       "model_id": "d09f12491c7842748059d7d9e24ffba7",
       "version_major": 2,
       "version_minor": 0
      },
      "text/plain": [
       "Stringifying the column:   0%|          | 0/21 [00:00<?, ?ba/s]"
      ]
     },
     "metadata": {},
     "output_type": "display_data"
    },
    {
     "data": {
      "application/vnd.jupyter.widget-view+json": {
       "model_id": "b193bc998c0940af9cb07ac760094cda",
       "version_major": 2,
       "version_minor": 0
      },
      "text/plain": [
       "Casting to class labels:   0%|          | 0/21 [00:00<?, ?ba/s]"
      ]
     },
     "metadata": {},
     "output_type": "display_data"
    },
    {
     "data": {
      "application/vnd.jupyter.widget-view+json": {
       "model_id": "5176ce7980e84be7b08528f96ca78635",
       "version_major": 2,
       "version_minor": 0
      },
      "text/plain": [
       "Casting the dataset:   0%|          | 0/3 [00:00<?, ?ba/s]"
      ]
     },
     "metadata": {},
     "output_type": "display_data"
    },
    {
     "name": "stderr",
     "output_type": "stream",
     "text": [
      "Some weights of the model checkpoint at bert-base-multilingual-uncased were not used when initializing BertForSequenceClassification: ['cls.predictions.transform.LayerNorm.weight', 'cls.seq_relationship.bias', 'cls.predictions.transform.dense.bias', 'cls.predictions.decoder.weight', 'cls.predictions.transform.LayerNorm.bias', 'cls.predictions.bias', 'cls.predictions.transform.dense.weight', 'cls.seq_relationship.weight']\n",
      "- This IS expected if you are initializing BertForSequenceClassification from the checkpoint of a model trained on another task or with another architecture (e.g. initializing a BertForSequenceClassification model from a BertForPreTraining model).\n",
      "- This IS NOT expected if you are initializing BertForSequenceClassification from the checkpoint of a model that you expect to be exactly identical (initializing a BertForSequenceClassification model from a BertForSequenceClassification model).\n",
      "Some weights of BertForSequenceClassification were not initialized from the model checkpoint at bert-base-multilingual-uncased and are newly initialized: ['classifier.weight', 'classifier.bias']\n",
      "You should probably TRAIN this model on a down-stream task to be able to use it for predictions and inference.\n"
     ]
    }
   ],
   "source": [
    "model = TextClassificationTransformer(\n",
    "    pretrained_model_name_or_path=origin_bert_name,\n",
    "    num_labels=dm.num_classes\n",
    ")"
   ]
  },
  {
   "cell_type": "code",
   "execution_count": 19,
   "metadata": {},
   "outputs": [
    {
     "name": "stderr",
     "output_type": "stream",
     "text": [
      "GPU available: True (cuda), used: True\n",
      "TPU available: False, using: 0 TPU cores\n",
      "IPU available: False, using: 0 IPUs\n",
      "HPU available: False, using: 0 HPUs\n",
      "Using custom data configuration default-4b8fbdee0bdfbfcf\n",
      "Found cached dataset json (/home/Kirill.Fomenko/.cache/huggingface/datasets/json/default-4b8fbdee0bdfbfcf/0.0.0/e6070c77f18f01a5ad4551a8b7edfba20b8438b7cad4d94e6ad9378022ce4aab)\n"
     ]
    },
    {
     "data": {
      "application/vnd.jupyter.widget-view+json": {
       "model_id": "dd654faa8cd6433d80a07ab95521b048",
       "version_major": 2,
       "version_minor": 0
      },
      "text/plain": [
       "  0%|          | 0/2 [00:00<?, ?it/s]"
      ]
     },
     "metadata": {},
     "output_type": "display_data"
    },
    {
     "data": {
      "application/vnd.jupyter.widget-view+json": {
       "model_id": "f1e645382462444db23bdba75afab285",
       "version_major": 2,
       "version_minor": 0
      },
      "text/plain": [
       "  0%|          | 0/184 [00:00<?, ?ba/s]"
      ]
     },
     "metadata": {},
     "output_type": "display_data"
    },
    {
     "name": "stderr",
     "output_type": "stream",
     "text": [
      "Loading cached processed dataset at /home/Kirill.Fomenko/.cache/huggingface/datasets/json/default-4b8fbdee0bdfbfcf/0.0.0/e6070c77f18f01a5ad4551a8b7edfba20b8438b7cad4d94e6ad9378022ce4aab/cache-33192eb87ef5831b.arrow\n"
     ]
    },
    {
     "data": {
      "application/vnd.jupyter.widget-view+json": {
       "model_id": "45d7026c7a464c5782d65888c912c108",
       "version_major": 2,
       "version_minor": 0
      },
      "text/plain": [
       "Stringifying the column:   0%|          | 0/184 [00:00<?, ?ba/s]"
      ]
     },
     "metadata": {},
     "output_type": "display_data"
    },
    {
     "data": {
      "application/vnd.jupyter.widget-view+json": {
       "model_id": "250ba99dc3a44e7d9404241f89b9f83b",
       "version_major": 2,
       "version_minor": 0
      },
      "text/plain": [
       "Casting to class labels:   0%|          | 0/184 [00:00<?, ?ba/s]"
      ]
     },
     "metadata": {},
     "output_type": "display_data"
    },
    {
     "data": {
      "application/vnd.jupyter.widget-view+json": {
       "model_id": "c357cdb4bfef4a3bb57311812c9fa9b7",
       "version_major": 2,
       "version_minor": 0
      },
      "text/plain": [
       "Casting the dataset:   0%|          | 0/19 [00:00<?, ?ba/s]"
      ]
     },
     "metadata": {},
     "output_type": "display_data"
    },
    {
     "name": "stderr",
     "output_type": "stream",
     "text": [
      "Loading cached processed dataset at /home/Kirill.Fomenko/.cache/huggingface/datasets/json/default-4b8fbdee0bdfbfcf/0.0.0/e6070c77f18f01a5ad4551a8b7edfba20b8438b7cad4d94e6ad9378022ce4aab/cache-8b29ed82ee5ae44b.arrow\n",
      "Loading cached processed dataset at /home/Kirill.Fomenko/.cache/huggingface/datasets/json/default-4b8fbdee0bdfbfcf/0.0.0/e6070c77f18f01a5ad4551a8b7edfba20b8438b7cad4d94e6ad9378022ce4aab/cache-6a95471788c199b0.arrow\n",
      "Loading cached processed dataset at /home/Kirill.Fomenko/.cache/huggingface/datasets/json/default-4b8fbdee0bdfbfcf/0.0.0/e6070c77f18f01a5ad4551a8b7edfba20b8438b7cad4d94e6ad9378022ce4aab/cache-0e950e99e51366f7.arrow\n",
      "LOCAL_RANK: 0 - CUDA_VISIBLE_DEVICES: [0]\n",
      "Loading `train_dataloader` to estimate number of stepping batches.\n",
      "\n",
      "  | Name   | Type                          | Params\n",
      "---------------------------------------------------------\n",
      "0 | model  | BertForSequenceClassification | 167 M \n",
      "1 | prec   | Precision                     | 0     \n",
      "2 | recall | Recall                        | 0     \n",
      "3 | acc    | Accuracy                      | 0     \n",
      "---------------------------------------------------------\n",
      "167 M     Trainable params\n",
      "0         Non-trainable params\n",
      "167 M     Total params\n",
      "669.432   Total estimated model params size (MB)\n"
     ]
    },
    {
     "data": {
      "application/vnd.jupyter.widget-view+json": {
       "model_id": "a5692b9a5aad40c4a9573d2f1fd3c2fe",
       "version_major": 2,
       "version_minor": 0
      },
      "text/plain": [
       "Sanity Checking: 0it [00:00, ?it/s]"
      ]
     },
     "metadata": {},
     "output_type": "display_data"
    },
    {
     "data": {
      "application/vnd.jupyter.widget-view+json": {
       "model_id": "ac88a7a31e5340bb8709df54951979b7",
       "version_major": 2,
       "version_minor": 0
      },
      "text/plain": [
       "Training: 0it [00:00, ?it/s]"
      ]
     },
     "metadata": {},
     "output_type": "display_data"
    },
    {
     "data": {
      "application/vnd.jupyter.widget-view+json": {
       "model_id": "daf0d26bd2304291a5ec7d1b5a51d2eb",
       "version_major": 2,
       "version_minor": 0
      },
      "text/plain": [
       "Validation: 0it [00:00, ?it/s]"
      ]
     },
     "metadata": {},
     "output_type": "display_data"
    }
   ],
   "source": [
    "trainer = pl.Trainer(accelerator=\"auto\", devices=\"auto\", max_epochs=4)\n",
    "trainer.fit(model, dm)"
   ]
  },
  {
   "cell_type": "code",
   "execution_count": null,
   "metadata": {},
   "outputs": [
    {
     "data": {
      "text/plain": [
       "[{'label': 'LABEL_0', 'score': 0.9818226099014282}]"
      ]
     },
     "execution_count": 8,
     "metadata": {},
     "output_type": "execute_result"
    }
   ],
   "source": [
    "model.hf_predict(\"Всем привет. Как дела?\")"
   ]
  },
  {
   "cell_type": "code",
   "execution_count": null,
   "metadata": {},
   "outputs": [
    {
     "data": {
      "text/plain": [
       "[{'label': 'LABEL_1', 'score': 0.7927154302597046}]"
      ]
     },
     "execution_count": 10,
     "metadata": {},
     "output_type": "execute_result"
    }
   ],
   "source": [
    "model.hf_predict(\"Trading starts TOMORROW!💰 Let’s take a look at projected earnings for these trading accounts! \")"
   ]
  },
  {
   "cell_type": "code",
   "execution_count": 18,
   "metadata": {},
   "outputs": [],
   "source": [
    "model.save_hf_checkpoint(modified_bert_name)\n",
    "tokenizer.save_vocabulary(modified_bert_name)"
   ]
  },
  {
   "cell_type": "markdown",
   "metadata": {},
   "source": [
    "## Results"
   ]
  },
  {
   "cell_type": "code",
   "execution_count": 28,
   "metadata": {},
   "outputs": [],
   "source": []
  },
  {
   "cell_type": "markdown",
   "metadata": {},
   "source": [
    "### Bert"
   ]
  },
  {
   "cell_type": "code",
   "execution_count": 31,
   "metadata": {},
   "outputs": [],
   "source": [
    "model=model.cuda()"
   ]
  },
  {
   "cell_type": "code",
   "execution_count": 62,
   "metadata": {},
   "outputs": [],
   "source": [
    "df_eval=pd.read_json(eval_path,orient='records')\n",
    "X = df_eval.text.values\n",
    "y = df_eval.label.values\n",
    "\n",
    "tokenizer = AutoTokenizer.from_pretrained(pretrained_model_name_or_path='./spam-bert-multilingual')\n",
    "model = TextClassificationTransformer(\n",
    "    pretrained_model_name_or_path=\"./spam-bert-multilingual\",\n",
    "    tokenizer=tokenizer\n",
    ")\n",
    "model.eval()\n",
    "model.hf_predict('Are you spam?')\n",
    "\n",
    "predicts = model.hf_predict(X.tolist())\n",
    "preds=[int(predict['label'][-1]) for predict in predicts]"
   ]
  },
  {
   "cell_type": "code",
   "execution_count": null,
   "metadata": {},
   "outputs": [
    {
     "name": "stdout",
     "output_type": "stream",
     "text": [
      "              precision    recall  f1-score   support\n",
      "\n",
      "           0       0.92      0.91      0.92      9922\n",
      "           1       0.93      0.94      0.94     12730\n",
      "\n",
      "    accuracy                           0.93     22652\n",
      "   macro avg       0.93      0.93      0.93     22652\n",
      "weighted avg       0.93      0.93      0.93     22652\n",
      "\n"
     ]
    },
    {
     "data": {
      "image/png": "[encoded data removed]",
      "text/plain": [
       "<Figure size 432x288 with 1 Axes>"
      ]
     },
     "metadata": {
      "needs_background": "light"
     },
     "output_type": "display_data"
    },
    {
     "data": {
      "image/png": "[encoded data removed]",
      "text/plain": [
       "<Figure size 432x288 with 2 Axes>"
      ]
     },
     "metadata": {
      "needs_background": "light"
     },
     "output_type": "display_data"
    }
   ],
   "source": [
    "show_metrics(y, preds)"
   ]
  }
 ],
 "metadata": {
  "kernelspec": {
   "display_name": "Python 3.8.10 64-bit",
   "language": "python",
   "name": "python3"
  },
  "language_info": {
   "codemirror_mode": {
    "name": "ipython",
    "version": 3
   },
   "file_extension": ".py",
   "mimetype": "text/x-python",
   "name": "python",
   "nbconvert_exporter": "python",
   "pygments_lexer": "ipython3",
   "version": "3.8.10"
  },
  "orig_nbformat": 4,
  "vscode": {
   "interpreter": {
    "hash": "916dbcbb3f70747c44a77c7bcd40155683ae19c65e1c03b4aa3499c5328201f1"
   }
  }
 },
 "nbformat": 4,
 "nbformat_minor": 2
}
